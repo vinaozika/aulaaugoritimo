{
  "nbformat": 4,
  "nbformat_minor": 0,
  "metadata": {
    "colab": {
      "provenance": [],
      "authorship_tag": "ABX9TyN7EHQxc8E+7hJ2dyNhqAY/",
      "include_colab_link": true
    },
    "kernelspec": {
      "name": "python3",
      "display_name": "Python 3"
    },
    "language_info": {
      "name": "python"
    }
  },
  "cells": [
    {
      "cell_type": "markdown",
      "metadata": {
        "id": "view-in-github",
        "colab_type": "text"
      },
      "source": [
        "<a href=\"https://colab.research.google.com/github/vinaozika/aulaaugoritimo/blob/main/Untitled7.ipynb\" target=\"_parent\"><img src=\"https://colab.research.google.com/assets/colab-badge.svg\" alt=\"Open In Colab\"/></a>"
      ]
    },
    {
      "cell_type": "code",
      "execution_count": 14,
      "metadata": {
        "colab": {
          "base_uri": "https://localhost:8080/"
        },
        "id": "5brobuid7PLk",
        "outputId": "2aae52b7-5f39-4b57-eaa8-af678f7f7420"
      },
      "outputs": [
        {
          "output_type": "stream",
          "name": "stdout",
          "text": [
            "Digite um número inteiro não negativo (ou -1 para sair): -1\n",
            "Programa encerrado.\n"
          ]
        }
      ],
      "source": [
        "def calcular_fatorial(n):\n",
        "    # Calcula o fatorial de n\n",
        "    if n == 0 or n == 1:\n",
        "        return 1\n",
        "    fatorial = 1\n",
        "    for i in range(2, n + 1):\n",
        "        fatorial *= i\n",
        "    return fatorial\n",
        "\n",
        "# Loop principal do programa\n",
        "while True:\n",
        "    # Solicita que o usuário insira um número\n",
        "    numero = int(input(\"Digite um número inteiro não negativo (ou -1 para sair): \"))\n",
        "\n",
        "    # Verifica se o usuário quer sair\n",
        "    if numero == -1:\n",
        "        print(\"Programa encerrado.\")\n",
        "        break\n",
        "\n",
        "    # Verifica se o número é negativo\n",
        "    if numero < 0:\n",
        "        print(\"Por favor, insira um número não negativo.\")\n",
        "        continue\n",
        "\n",
        "    # Calcula e exibe o fatorial\n",
        "    resultado = calcular_fatorial(numero)\n",
        "    print(f\"O fatorial de {numero} é {resultado}.\")\n"
      ]
    },
    {
      "cell_type": "code",
      "source": [
        "while True:\n",
        "  #verificador de numeros pares e impares\n",
        "  numero=int(input(\"digite um numero inteiro \"))\n",
        "\n",
        "  if numero==0:\n",
        "    print(\"programa encerrado\")\n",
        "    break\n",
        "\n",
        "  #verifica se é impar ou par\n",
        "  if numero%2==0:\n",
        "    print(\"o numero é par\")\n",
        "  else:\n",
        "    print(\"o numero é impar\")"
      ],
      "metadata": {
        "colab": {
          "base_uri": "https://localhost:8080/"
        },
        "id": "o2X8WlOxIqUG",
        "outputId": "f23c6ce9-bf4d-4700-c565-aab832a71767"
      },
      "execution_count": 32,
      "outputs": [
        {
          "output_type": "stream",
          "name": "stdout",
          "text": [
            "digite um numero inteiro -2\n",
            "o numero é par\n",
            "digite um numero inteiro -5\n",
            "o numero é impar\n",
            "digite um numero inteiro 0\n",
            "programa encerrado\n"
          ]
        }
      ]
    },
    {
      "cell_type": "code",
      "source": [
        "# Solicita as três notas do usuário\n",
        "nota1 = float(input(\"Digite a primeira nota: \"))\n",
        "nota2 = float(input(\"Digite a segunda nota: \"))\n",
        "nota3 = float(input(\"Digite a terceira nota: \"))\n",
        "\n",
        "# Calcula a média das notas\n",
        "media = (nota1 + nota2 + nota3) / 3\n",
        "\n",
        "# Exibe a média\n",
        "print(f\"A média é {media:.2f}.\")\n",
        "\n",
        "# Verifica a situação do aluno\n",
        "if media >= 7:\n",
        "    print(\"Situação: Aprovado.\")\n",
        "elif media >= 5:\n",
        "    print(\"Situação: Recuperação.\")\n",
        "else:\n",
        "    print(\"Situação: Reprovado.\")"
      ],
      "metadata": {
        "colab": {
          "base_uri": "https://localhost:8080/"
        },
        "id": "_k_0lgjhPPHA",
        "outputId": "cf012137-0278-4f5b-d8d0-f2102cc8009c"
      },
      "execution_count": 37,
      "outputs": [
        {
          "output_type": "stream",
          "name": "stdout",
          "text": [
            "Digite a primeira nota: 5\n",
            "Digite a segunda nota: 7\n",
            "Digite a terceira nota: 8\n",
            "A média é 6.67.\n",
            "Situação: Recuperação.\n"
          ]
        }
      ]
    }
  ]
}