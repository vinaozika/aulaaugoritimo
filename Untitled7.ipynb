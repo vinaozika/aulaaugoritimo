{
  "nbformat": 4,
  "nbformat_minor": 0,
  "metadata": {
    "colab": {
      "provenance": [],
      "authorship_tag": "ABX9TyNLgV0b8NiJ7jRCCzrg3L/+",
      "include_colab_link": true
    },
    "kernelspec": {
      "name": "python3",
      "display_name": "Python 3"
    },
    "language_info": {
      "name": "python"
    }
  },
  "cells": [
    {
      "cell_type": "markdown",
      "metadata": {
        "id": "view-in-github",
        "colab_type": "text"
      },
      "source": [
        "<a href=\"https://colab.research.google.com/github/vinaozika/aulaaugoritimo/blob/main/Untitled7.ipynb\" target=\"_parent\"><img src=\"https://colab.research.google.com/assets/colab-badge.svg\" alt=\"Open In Colab\"/></a>"
      ]
    },
    {
      "cell_type": "code",
      "execution_count": 7,
      "metadata": {
        "colab": {
          "base_uri": "https://localhost:8080/"
        },
        "id": "5brobuid7PLk",
        "outputId": "7a6e3e68-92e6-4d3e-e3fb-d58807aa9e09"
      },
      "outputs": [
        {
          "output_type": "stream",
          "name": "stdout",
          "text": [
            "Digite um número inteiro não negativo (ou -1 para sair): 5\n",
            "O fatorial de 5 é 120.\n",
            "Digite um número inteiro não negativo (ou -1 para sair): 100\n",
            "O fatorial de 100 é 93326215443944152681699238856266700490715968264381621468592963895217599993229915608941463976156518286253697920827223758251185210916864000000000000000000000000.\n",
            "Digite um número inteiro não negativo (ou -1 para sair): -5\n",
            "Por favor, insira um número não negativo.\n",
            "Digite um número inteiro não negativo (ou -1 para sair): -9\n",
            "Por favor, insira um número não negativo.\n",
            "Digite um número inteiro não negativo (ou -1 para sair): -2\n",
            "Por favor, insira um número não negativo.\n",
            "Digite um número inteiro não negativo (ou -1 para sair): 2\n",
            "O fatorial de 2 é 2.\n",
            "Digite um número inteiro não negativo (ou -1 para sair): -1\n",
            "Programa encerrado.\n"
          ]
        }
      ],
      "source": [
        "def calcular_fatorial(n):\n",
        "    # Calcula o fatorial de n\n",
        "    if n == 0 or n == 1:\n",
        "        return 1\n",
        "    fatorial = 1\n",
        "    for i in range(2, n + 1):\n",
        "        fatorial *= i\n",
        "    return fatorial\n",
        "\n",
        "# Loop principal do programa\n",
        "while True:\n",
        "    # Solicita que o usuário insira um número\n",
        "    numero = int(input(\"Digite um número inteiro não negativo (ou -1 para sair): \"))\n",
        "\n",
        "    # Verifica se o usuário quer sair\n",
        "    if numero == -1:\n",
        "        print(\"Programa encerrado.\")\n",
        "        break\n",
        "\n",
        "    # Verifica se o número é negativo\n",
        "    if numero < 0:\n",
        "        print(\"Por favor, insira um número não negativo.\")\n",
        "        continue\n",
        "\n",
        "    # Calcula e exibe o fatorial\n",
        "    resultado = calcular_fatorial(numero)\n",
        "    print(f\"O fatorial de {numero} é {resultado}.\")\n"
      ]
    }
  ]
}