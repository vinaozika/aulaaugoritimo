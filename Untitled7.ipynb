{
  "nbformat": 4,
  "nbformat_minor": 0,
  "metadata": {
    "colab": {
      "provenance": [],
      "authorship_tag": "ABX9TyMDT/UeSTB1yeoRuKA1lkGX",
      "include_colab_link": true
    },
    "kernelspec": {
      "name": "python3",
      "display_name": "Python 3"
    },
    "language_info": {
      "name": "python"
    }
  },
  "cells": [
    {
      "cell_type": "markdown",
      "metadata": {
        "id": "view-in-github",
        "colab_type": "text"
      },
      "source": [
        "<a href=\"https://colab.research.google.com/github/vinaozika/aulaaugoritimo/blob/main/Untitled7.ipynb\" target=\"_parent\"><img src=\"https://colab.research.google.com/assets/colab-badge.svg\" alt=\"Open In Colab\"/></a>"
      ]
    },
    {
      "cell_type": "code",
      "execution_count": 14,
      "metadata": {
        "colab": {
          "base_uri": "https://localhost:8080/"
        },
        "id": "5brobuid7PLk",
        "outputId": "2aae52b7-5f39-4b57-eaa8-af678f7f7420"
      },
      "outputs": [
        {
          "output_type": "stream",
          "name": "stdout",
          "text": [
            "Digite um número inteiro não negativo (ou -1 para sair): -1\n",
            "Programa encerrado.\n"
          ]
        }
      ],
      "source": [
        "def calcular_fatorial(n):\n",
        "    # Calcula o fatorial de n\n",
        "    if n == 0 or n == 1:\n",
        "        return 1\n",
        "    fatorial = 1\n",
        "    for i in range(2, n + 1):\n",
        "        fatorial *= i\n",
        "    return fatorial\n",
        "\n",
        "# Loop principal do programa\n",
        "while True:\n",
        "    # Solicita que o usuário insira um número\n",
        "    numero = int(input(\"Digite um número inteiro não negativo (ou -1 para sair): \"))\n",
        "\n",
        "    # Verifica se o usuário quer sair\n",
        "    if numero == -1:\n",
        "        print(\"Programa encerrado.\")\n",
        "        break\n",
        "\n",
        "    # Verifica se o número é negativo\n",
        "    if numero < 0:\n",
        "        print(\"Por favor, insira um número não negativo.\")\n",
        "        continue\n",
        "\n",
        "    # Calcula e exibe o fatorial\n",
        "    resultado = calcular_fatorial(numero)\n",
        "    print(f\"O fatorial de {numero} é {resultado}.\")\n"
      ]
    },
    {
      "cell_type": "code",
      "source": [
        "while True:\n",
        "  #verificador de numeros pares e impares\n",
        "  numero=int(input(\"digite um numero inteiro \"))\n",
        "\n",
        "  if numero==0:\n",
        "    print(\"programa encerrado\")\n",
        "    break\n",
        "\n",
        "  #verifica se é impar ou par\n",
        "  if numero%2==0:\n",
        "    print(\"o numero é par\")\n",
        "  else:\n",
        "    print(\"o numero é impar\")"
      ],
      "metadata": {
        "colab": {
          "base_uri": "https://localhost:8080/"
        },
        "id": "o2X8WlOxIqUG",
        "outputId": "f23c6ce9-bf4d-4700-c565-aab832a71767"
      },
      "execution_count": 32,
      "outputs": [
        {
          "output_type": "stream",
          "name": "stdout",
          "text": [
            "digite um numero inteiro -2\n",
            "o numero é par\n",
            "digite um numero inteiro -5\n",
            "o numero é impar\n",
            "digite um numero inteiro 0\n",
            "programa encerrado\n"
          ]
        }
      ]
    },
    {
      "cell_type": "code",
      "source": [
        "# Solicita as três notas do usuário\n",
        "nota1 = float(input(\"Digite a primeira nota: \"))\n",
        "nota2 = float(input(\"Digite a segunda nota: \"))\n",
        "nota3 = float(input(\"Digite a terceira nota: \"))\n",
        "\n",
        "# Calcula a média das notas\n",
        "media = (nota1 + nota2 + nota3) / 3\n",
        "\n",
        "# Exibe a média\n",
        "print(f\"A média é {media:.2f}.\")\n",
        "\n",
        "# Verifica a situação do aluno\n",
        "if media >= 7:\n",
        "    print(\"Situação: Aprovado.\")\n",
        "elif media >= 5:\n",
        "    print(\"Situação: Recuperação.\")\n",
        "else:\n",
        "    print(\"Situação: Reprovado.\")"
      ],
      "metadata": {
        "colab": {
          "base_uri": "https://localhost:8080/"
        },
        "id": "_k_0lgjhPPHA",
        "outputId": "cf012137-0278-4f5b-d8d0-f2102cc8009c"
      },
      "execution_count": 37,
      "outputs": [
        {
          "output_type": "stream",
          "name": "stdout",
          "text": [
            "Digite a primeira nota: 5\n",
            "Digite a segunda nota: 7\n",
            "Digite a terceira nota: 8\n",
            "A média é 6.67.\n",
            "Situação: Recuperação.\n"
          ]
        }
      ]
    },
    {
      "cell_type": "code",
      "source": [
        "#solicita a idade\n",
        "idade=int(input(\"digite sua idade \"))\n",
        "\n",
        "#verifica a categoria\n",
        "if idade>=1 and idade<=4:\n",
        "  print(\"infantil A\")\n",
        "elif idade>=5 and idade<=7:\n",
        "  print(\"infantil B\")\n",
        "elif idade>=8 and idade<=10:\n",
        "  print(\"infantil C\")\n",
        "elif idade>=11 and idade<=13:\n",
        "  print(\"pré adolecente\")\n",
        "elif idade>=14 and idade<=18:\n",
        "  print(\"adolecente\")\n",
        "elif idade>=19 and idade<=25:\n",
        "  print(\"jovem adulto\")\n",
        "else:\n",
        "  print(\"adulto\")\n",
        "#"
      ],
      "metadata": {
        "colab": {
          "base_uri": "https://localhost:8080/"
        },
        "id": "HKIIwo1PSY93",
        "outputId": "a02e060b-6968-463d-c454-2719e4830355"
      },
      "execution_count": 38,
      "outputs": [
        {
          "output_type": "stream",
          "name": "stdout",
          "text": [
            "digite sua idade 24\n",
            "jovem adulto\n"
          ]
        }
      ]
    },
    {
      "cell_type": "code",
      "source": [
        "#conversor de temperatura de Celsius para Fahrenheit\n",
        "celsius=float(input(\"digite a temperatura em Celcius \"))\n",
        "fahrenheit=(celsius*9/5)+32\n",
        "print(f\"a temperatura em fahrenheit é igual a {fahrenheit:.3f}\")"
      ],
      "metadata": {
        "colab": {
          "base_uri": "https://localhost:8080/"
        },
        "id": "h6wu5XQnVg7h",
        "outputId": "785baa85-e635-400d-ebbf-91f577fed794"
      },
      "execution_count": 55,
      "outputs": [
        {
          "output_type": "stream",
          "name": "stdout",
          "text": [
            "digite a temperatura em Celcius 37.17\n",
            "a temperatura em fahrenheit é igual a 98.906\n"
          ]
        }
      ]
    }
  ]
}