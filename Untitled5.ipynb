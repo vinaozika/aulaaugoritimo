{
  "nbformat": 4,
  "nbformat_minor": 0,
  "metadata": {
    "colab": {
      "provenance": [],
      "authorship_tag": "ABX9TyOHbYn1LMxM2aKFJKn1Ch+7",
      "include_colab_link": true
    },
    "kernelspec": {
      "name": "python3",
      "display_name": "Python 3"
    },
    "language_info": {
      "name": "python"
    }
  },
  "cells": [
    {
      "cell_type": "markdown",
      "metadata": {
        "id": "view-in-github",
        "colab_type": "text"
      },
      "source": [
        "<a href=\"https://colab.research.google.com/github/vinaozika/aulaaugoritimo/blob/main/Untitled5.ipynb\" target=\"_parent\"><img src=\"https://colab.research.google.com/assets/colab-badge.svg\" alt=\"Open In Colab\"/></a>"
      ]
    },
    {
      "cell_type": "code",
      "execution_count": 5,
      "metadata": {
        "colab": {
          "base_uri": "https://localhost:8080/"
        },
        "id": "wSNVjXke_YIP",
        "outputId": "7d243f51-84a7-4940-b6c8-bf221778908d"
      },
      "outputs": [
        {
          "output_type": "stream",
          "name": "stdout",
          "text": [
            "Ângulo (graus)  seno      \n",
            "0               0.0000    \n",
            "5               0.0872    \n",
            "10              0.1736    \n",
            "15              0.2588    \n",
            "20              0.3420    \n",
            "25              0.4226    \n",
            "30              0.5000    \n",
            "35              0.5736    \n",
            "40              0.6428    \n",
            "45              0.7071    \n",
            "50              0.7660    \n",
            "55              0.8192    \n",
            "60              0.8660    \n",
            "65              0.9063    \n",
            "70              0.9397    \n",
            "75              0.9659    \n",
            "80              0.9848    \n",
            "85              0.9962    \n",
            "90              1.0000    \n",
            "95              0.9962    \n",
            "100             0.9848    \n",
            "105             0.9659    \n",
            "110             0.9397    \n",
            "115             0.9063    \n",
            "120             0.8660    \n",
            "125             0.8192    \n",
            "130             0.7660    \n",
            "135             0.7071    \n",
            "140             0.6428    \n",
            "145             0.5736    \n",
            "150             0.5000    \n",
            "155             0.4226    \n",
            "160             0.3420    \n",
            "165             0.2588    \n",
            "170             0.1736    \n",
            "175             0.0872    \n",
            "180             0.0000    \n",
            "185             -0.0872   \n",
            "190             -0.1736   \n",
            "195             -0.2588   \n",
            "200             -0.3420   \n",
            "205             -0.4226   \n",
            "210             -0.5000   \n",
            "215             -0.5736   \n",
            "220             -0.6428   \n",
            "225             -0.7071   \n",
            "230             -0.7660   \n",
            "235             -0.8192   \n",
            "240             -0.8660   \n",
            "245             -0.9063   \n",
            "250             -0.9397   \n",
            "255             -0.9659   \n",
            "260             -0.9848   \n",
            "265             -0.9962   \n",
            "270             -1.0000   \n",
            "275             -0.9962   \n",
            "280             -0.9848   \n",
            "285             -0.9659   \n",
            "290             -0.9397   \n",
            "295             -0.9063   \n",
            "300             -0.8660   \n",
            "305             -0.8192   \n",
            "310             -0.7660   \n",
            "315             -0.7071   \n",
            "320             -0.6428   \n",
            "325             -0.5736   \n",
            "330             -0.5000   \n",
            "335             -0.4226   \n",
            "340             -0.3420   \n",
            "345             -0.2588   \n",
            "350             -0.1736   \n",
            "355             -0.0872   \n",
            "360             -0.0000   \n"
          ]
        }
      ],
      "source": [
        "import math\n",
        "\n",
        "#cabeçalho da tabela\n",
        "print(f\"{'Ângulo (graus)':<15} {'seno':10}\")\n",
        "\n",
        "#gera os valores dos angulos de 0° a 360° com intervalo de 5°\n",
        "for angulo in range (0,361,5):\n",
        "  #converte o ângulo de graus para radianos\n",
        "  radianos = math.radians(angulo)\n",
        "  #calcula o seno do ângulo\n",
        "  seno = math.sin(radianos)\n",
        "  #exibe o ângulo e seu seno correspondente\n",
        "  print(f\"{angulo:<15} {seno:<10.4f}\")"
      ]
    },
    {
      "cell_type": "code",
      "source": [],
      "metadata": {
        "id": "HcjYG7zqR9FR"
      },
      "execution_count": null,
      "outputs": []
    }
  ]
}