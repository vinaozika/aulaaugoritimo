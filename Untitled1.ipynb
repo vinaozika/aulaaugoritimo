{
  "nbformat": 4,
  "nbformat_minor": 0,
  "metadata": {
    "colab": {
      "provenance": [],
      "authorship_tag": "ABX9TyNoo4MlQpu5SH/+FiJY51st",
      "include_colab_link": true
    },
    "kernelspec": {
      "name": "python3",
      "display_name": "Python 3"
    },
    "language_info": {
      "name": "python"
    }
  },
  "cells": [
    {
      "cell_type": "markdown",
      "metadata": {
        "id": "view-in-github",
        "colab_type": "text"
      },
      "source": [
        "<a href=\"https://colab.research.google.com/github/vinaozika/aulaaugoritimo/blob/main/Untitled1.ipynb\" target=\"_parent\"><img src=\"https://colab.research.google.com/assets/colab-badge.svg\" alt=\"Open In Colab\"/></a>"
      ]
    },
    {
      "cell_type": "code",
      "execution_count": 1,
      "metadata": {
        "colab": {
          "base_uri": "https://localhost:8080/",
          "height": 339
        },
        "id": "xLUJg2MCFmtp",
        "outputId": "b844aa3b-ae2a-4fe1-dc2a-25cc984eba26"
      },
      "outputs": [
        {
          "output_type": "stream",
          "name": "stdout",
          "text": [
            "Sinal verde na Avenida Sul. (Aberto por 90 segundos)\n"
          ]
        },
        {
          "output_type": "error",
          "ename": "KeyboardInterrupt",
          "evalue": "",
          "traceback": [
            "\u001b[0;31m---------------------------------------------------------------------------\u001b[0m",
            "\u001b[0;31mKeyboardInterrupt\u001b[0m                         Traceback (most recent call last)",
            "\u001b[0;32m<ipython-input-1-5177f47a1562>\u001b[0m in \u001b[0;36m<cell line: 32>\u001b[0;34m()\u001b[0m\n\u001b[1;32m     30\u001b[0m \u001b[0;34m\u001b[0m\u001b[0m\n\u001b[1;32m     31\u001b[0m \u001b[0;31m# Inicia o controle dos semáforos\u001b[0m\u001b[0;34m\u001b[0m\u001b[0;34m\u001b[0m\u001b[0m\n\u001b[0;32m---> 32\u001b[0;31m \u001b[0mcontrole_semaforos\u001b[0m\u001b[0;34m(\u001b[0m\u001b[0;34m)\u001b[0m\u001b[0;34m\u001b[0m\u001b[0;34m\u001b[0m\u001b[0m\n\u001b[0m",
            "\u001b[0;32m<ipython-input-1-5177f47a1562>\u001b[0m in \u001b[0;36mcontrole_semaforos\u001b[0;34m()\u001b[0m\n\u001b[1;32m     22\u001b[0m     \u001b[0;32mwhile\u001b[0m \u001b[0;32mTrue\u001b[0m\u001b[0;34m:\u001b[0m\u001b[0;34m\u001b[0m\u001b[0;34m\u001b[0m\u001b[0m\n\u001b[1;32m     23\u001b[0m         \u001b[0;31m# Avenidas que dão acesso a outras duas avenidas (ex.: Sul e Leste)\u001b[0m\u001b[0;34m\u001b[0m\u001b[0;34m\u001b[0m\u001b[0m\n\u001b[0;32m---> 24\u001b[0;31m         \u001b[0msemaforo\u001b[0m\u001b[0;34m(\u001b[0m\u001b[0;34m\"Sul\"\u001b[0m\u001b[0;34m,\u001b[0m \u001b[0;36m90\u001b[0m\u001b[0;34m,\u001b[0m \u001b[0;36m40\u001b[0m\u001b[0;34m)\u001b[0m   \u001b[0;31m# Sul: Aberto por 1 minuto e 30 segundos, Fechado por 40 segundos\u001b[0m\u001b[0;34m\u001b[0m\u001b[0;34m\u001b[0m\u001b[0m\n\u001b[0m\u001b[1;32m     25\u001b[0m         \u001b[0msemaforo\u001b[0m\u001b[0;34m(\u001b[0m\u001b[0;34m\"Leste\"\u001b[0m\u001b[0;34m,\u001b[0m \u001b[0;36m90\u001b[0m\u001b[0;34m,\u001b[0m \u001b[0;36m40\u001b[0m\u001b[0;34m)\u001b[0m \u001b[0;31m# Leste: Aberto por 1 minuto e 30 segundos, Fechado por 40 segundos\u001b[0m\u001b[0;34m\u001b[0m\u001b[0;34m\u001b[0m\u001b[0m\n\u001b[1;32m     26\u001b[0m \u001b[0;34m\u001b[0m\u001b[0m\n",
            "\u001b[0;32m<ipython-input-1-5177f47a1562>\u001b[0m in \u001b[0;36msemaforo\u001b[0;34m(avenida, tempo_aberto, tempo_fechado)\u001b[0m\n\u001b[1;32m      6\u001b[0m     \u001b[0mprint\u001b[0m\u001b[0;34m(\u001b[0m\u001b[0;34mf\"Sinal verde na Avenida {avenida}. (Aberto por {tempo_aberto} segundos)\"\u001b[0m\u001b[0;34m)\u001b[0m\u001b[0;34m\u001b[0m\u001b[0;34m\u001b[0m\u001b[0m\n\u001b[1;32m      7\u001b[0m     \u001b[0;31m# Aguarda o tempo especificado enquanto o semáforo está aberto\u001b[0m\u001b[0;34m\u001b[0m\u001b[0;34m\u001b[0m\u001b[0m\n\u001b[0;32m----> 8\u001b[0;31m     \u001b[0mtime\u001b[0m\u001b[0;34m.\u001b[0m\u001b[0msleep\u001b[0m\u001b[0;34m(\u001b[0m\u001b[0mtempo_aberto\u001b[0m\u001b[0;34m)\u001b[0m\u001b[0;34m\u001b[0m\u001b[0;34m\u001b[0m\u001b[0m\n\u001b[0m\u001b[1;32m      9\u001b[0m \u001b[0;34m\u001b[0m\u001b[0m\n\u001b[1;32m     10\u001b[0m     \u001b[0;31m# Sinal amarelo (atenção) antes de fechar\u001b[0m\u001b[0;34m\u001b[0m\u001b[0;34m\u001b[0m\u001b[0m\n",
            "\u001b[0;31mKeyboardInterrupt\u001b[0m: "
          ]
        }
      ],
      "source": [
        "import time\n",
        "\n",
        "# Função para simular o funcionamento de um semáforo em uma avenida\n",
        "def semaforo(avenida, tempo_aberto, tempo_fechado):\n",
        "    # Sinal verde (aberto)\n",
        "    print(f\"Sinal verde na Avenida {avenida}. (Aberto por {tempo_aberto} segundos)\")\n",
        "    # Aguarda o tempo especificado enquanto o semáforo está aberto\n",
        "    time.sleep(tempo_aberto)\n",
        "\n",
        "    # Sinal amarelo (atenção) antes de fechar\n",
        "    print(f\"Sinal amarelo na Avenida {avenida}. (Atenção por 4 segundos)\")\n",
        "    # Aguarda 4 segundos enquanto o semáforo está em atenção\n",
        "    time.sleep(4)\n",
        "\n",
        "    # Sinal vermelho (fechado)\n",
        "    print(f\"Sinal vermelho na Avenida {avenida}. (Fechado por {tempo_fechado} segundos)\")\n",
        "    # Aguarda o tempo especificado enquanto o semáforo está fechado\n",
        "    time.sleep(tempo_fechado)\n",
        "\n",
        "# Função principal que controla a sequência dos semáforos\n",
        "def controle_semaforos():\n",
        "    while True:\n",
        "        # Avenidas que dão acesso a outras duas avenidas (ex.: Sul e Leste)\n",
        "        semaforo(\"Sul\", 90, 40)   # Sul: Aberto por 1 minuto e 30 segundos, Fechado por 40 segundos\n",
        "        semaforo(\"Leste\", 90, 40) # Leste: Aberto por 1 minuto e 30 segundos, Fechado por 40 segundos\n",
        "\n",
        "        # Avenidas que dão acesso a apenas uma outra avenida (ex.: Norte e Oeste)\n",
        "        semaforo(\"Norte\", 50, 35) # Norte: Aberto por 50 segundos, Fechado por 35 segundos\n",
        "        semaforo(\"Oeste\", 50, 35) # Oeste: Aberto por 50 segundos, Fechado por 35 segundos\n",
        "\n",
        "# Inicia o controle dos semáforos\n",
        "controle_semaforos()"
      ]
    }
  ]
}