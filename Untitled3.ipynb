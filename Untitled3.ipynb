{
  "nbformat": 4,
  "nbformat_minor": 0,
  "metadata": {
    "colab": {
      "provenance": [],
      "toc_visible": true,
      "authorship_tag": "ABX9TyNO/c8WqEZhb9J/F2B+kHbz",
      "include_colab_link": true
    },
    "kernelspec": {
      "name": "python3",
      "display_name": "Python 3"
    },
    "language_info": {
      "name": "python"
    }
  },
  "cells": [
    {
      "cell_type": "markdown",
      "metadata": {
        "id": "view-in-github",
        "colab_type": "text"
      },
      "source": [
        "<a href=\"https://colab.research.google.com/github/vinaozika/aulaaugoritimo/blob/main/Untitled3.ipynb\" target=\"_parent\"><img src=\"https://colab.research.google.com/assets/colab-badge.svg\" alt=\"Open In Colab\"/></a>"
      ]
    },
    {
      "cell_type": "code",
      "execution_count": 11,
      "metadata": {
        "colab": {
          "base_uri": "https://localhost:8080/"
        },
        "id": "DmiZpxpQ_otN",
        "outputId": "93453601-4d9d-407b-bab2-df3ffa7b2fdd"
      },
      "outputs": [
        {
          "output_type": "stream",
          "name": "stdout",
          "text": [
            "digite numero52\n",
            "o numero (numero) é par\n"
          ]
        }
      ],
      "source": [
        "# solicita que usuario insira numero\n",
        "numero=int(input(\"digite numero\"))\n",
        "\n",
        "# verifica se o numero é par ou impar\n",
        "if numero%2==0:\n",
        "  print(f\"o numero (numero) é par\")\n",
        "else:\n",
        "  print(f\"o numero (numero) é impar\")"
      ]
    },
    {
      "cell_type": "code",
      "source": [
        "import math\n",
        "\n",
        "# solicita ao usuario que insira um numero\n",
        "numero= float(input(\"digite um numero:\"))\n",
        "\n",
        "# verifica se o numero é maior ou igual a zero\n",
        "if numero >=0:\n",
        "  raiz_quadrada=math.sqrt(numero)\n",
        "  print(f\"a raiz quadrada de {numero} é{raiz_quadrada: .2f}.\")\n",
        "else:\n",
        "  print(\"não existe raiz rea para este numero!\")"
      ],
      "metadata": {
        "colab": {
          "base_uri": "https://localhost:8080/"
        },
        "id": "7Gt9IvkMN8_g",
        "outputId": "f339c9f8-cd64-430d-c559-7f4345ab88af"
      },
      "execution_count": 13,
      "outputs": [
        {
          "output_type": "stream",
          "name": "stdout",
          "text": [
            "digite um numero:4\n",
            "a raiz quadrada de 4.0 é 2.00.\n"
          ]
        }
      ]
    }
  ]
}