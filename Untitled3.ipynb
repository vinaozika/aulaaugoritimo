{
  "nbformat": 4,
  "nbformat_minor": 0,
  "metadata": {
    "colab": {
      "provenance": [],
      "toc_visible": true,
      "authorship_tag": "ABX9TyNBLT8TMv11PGJwq607Q/9y",
      "include_colab_link": true
    },
    "kernelspec": {
      "name": "python3",
      "display_name": "Python 3"
    },
    "language_info": {
      "name": "python"
    }
  },
  "cells": [
    {
      "cell_type": "markdown",
      "metadata": {
        "id": "view-in-github",
        "colab_type": "text"
      },
      "source": [
        "<a href=\"https://colab.research.google.com/github/vinaozika/aulaaugoritimo/blob/main/Untitled3.ipynb\" target=\"_parent\"><img src=\"https://colab.research.google.com/assets/colab-badge.svg\" alt=\"Open In Colab\"/></a>"
      ]
    },
    {
      "cell_type": "code",
      "execution_count": 11,
      "metadata": {
        "colab": {
          "base_uri": "https://localhost:8080/"
        },
        "id": "DmiZpxpQ_otN",
        "outputId": "93453601-4d9d-407b-bab2-df3ffa7b2fdd"
      },
      "outputs": [
        {
          "output_type": "stream",
          "name": "stdout",
          "text": [
            "digite numero52\n",
            "o numero (numero) é par\n"
          ]
        }
      ],
      "source": [
        "# solicita que usuario insira numero\n",
        "numero=int(input(\"digite numero\"))\n",
        "\n",
        "# verifica se o numero é par ou impar\n",
        "if numero%2==0:\n",
        "  print(f\"o numero (numero) é par\")\n",
        "else:\n",
        "  print(f\"o numero (numero) é impar\")"
      ]
    }
  ]
}