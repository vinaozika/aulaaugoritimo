{
  "nbformat": 4,
  "nbformat_minor": 0,
  "metadata": {
    "colab": {
      "provenance": [],
      "authorship_tag": "ABX9TyOngwMl/esuWLqyhkH82tdp",
      "include_colab_link": true
    },
    "kernelspec": {
      "name": "python3",
      "display_name": "Python 3"
    },
    "language_info": {
      "name": "python"
    }
  },
  "cells": [
    {
      "cell_type": "markdown",
      "metadata": {
        "id": "view-in-github",
        "colab_type": "text"
      },
      "source": [
        "<a href=\"https://colab.research.google.com/github/vinaozika/aulaaugoritimo/blob/main/Untitled2.ipynb\" target=\"_parent\"><img src=\"https://colab.research.google.com/assets/colab-badge.svg\" alt=\"Open In Colab\"/></a>"
      ]
    },
    {
      "cell_type": "code",
      "execution_count": 2,
      "metadata": {
        "colab": {
          "base_uri": "https://localhost:8080/"
        },
        "id": "MT-mATpD-C0h",
        "outputId": "815e1f0a-19cb-42eb-d604-4f411b47fcb8"
      },
      "outputs": [
        {
          "output_type": "stream",
          "name": "stdout",
          "text": [
            "digite valor polegada2\n",
            "valor pol em mm= 50.8\n"
          ]
        }
      ],
      "source": [
        "#converter polegada para mm\n",
        "p=float(input(\"digite valor polegada\"))\n",
        "mm=p*25.4\n",
        "print(\"valor pol em mm=\",mm)\n"
      ]
    },
    {
      "cell_type": "code",
      "source": [
        "#programa que recebe valor do raio \"r\" de uma esfera e calcule o valor volume \"v\"\n",
        "r=float(input(\"digitar valor do raio\"))\n",
        "v=(((r*4*3.14)*r**3)/3)\n",
        "print(\"valor volume de acordo com raio=\",v)\n"
      ],
      "metadata": {
        "colab": {
          "base_uri": "https://localhost:8080/"
        },
        "id": "YDEvxHkqA0yJ",
        "outputId": "4e933303-a14e-43ca-f0d1-8f7571c85397"
      },
      "execution_count": 7,
      "outputs": [
        {
          "output_type": "stream",
          "name": "stdout",
          "text": [
            "digitar valor do raio2\n",
            "valor volume de acordo com raio= 66.98666666666666\n"
          ]
        }
      ]
    },
    {
      "cell_type": "code",
      "source": [
        "# receber valor em graus \"g\" e transformar em radianos \"r\"\n",
        "g=float(input(\"digitar valor em graus\"))\n",
        "r=0.0175\n",
        "print(\"valor radiano\",r)\n",
        "\n"
      ],
      "metadata": {
        "colab": {
          "base_uri": "https://localhost:8080/"
        },
        "id": "eVX0LeRhFAyu",
        "outputId": "a5db88bc-e041-4b30-db8b-cbc0b55c72ed"
      },
      "execution_count": 8,
      "outputs": [
        {
          "output_type": "stream",
          "name": "stdout",
          "text": [
            "digitar valor em graus1\n",
            "valor radiano 0.0175\n"
          ]
        }
      ]
    },
    {
      "cell_type": "code",
      "source": [
        "# receber valor em radianos \"r\" e transformar em graus \"g\"\n",
        "r=float(input(\"digitar valor em raio\"))\n",
        "g=57.296\n",
        "print(\"valor radiano\",g)"
      ],
      "metadata": {
        "colab": {
          "base_uri": "https://localhost:8080/"
        },
        "id": "p8TdK8DlGHM2",
        "outputId": "e009f143-a62f-4c4e-971b-fffd8022a383"
      },
      "execution_count": 10,
      "outputs": [
        {
          "output_type": "stream",
          "name": "stdout",
          "text": [
            "digitar valor em graus1\n",
            "valor radiano 57.296\n"
          ]
        }
      ]
    },
    {
      "cell_type": "code",
      "source": [
        "# receber valor em radianos \"r\" e converter em grados \"g\"\n",
        "r=float(input(\"digitar valor em radianos\"))\n",
        "g= r*(400/27)\n",
        "print(\"valor de radianos para grados\", g)\n",
        "\n"
      ],
      "metadata": {
        "colab": {
          "base_uri": "https://localhost:8080/"
        },
        "id": "_7eVHDXgGqz6",
        "outputId": "c26f4ad3-a4ba-4159-e1a3-3be9ecf47117"
      },
      "execution_count": 13,
      "outputs": [
        {
          "output_type": "stream",
          "name": "stdout",
          "text": [
            "digitar valor em radianos10\n",
            "valor de radianos para grados 148.14814814814815\n"
          ]
        }
      ]
    }
  ]
}