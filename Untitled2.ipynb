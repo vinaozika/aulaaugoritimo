{
  "nbformat": 4,
  "nbformat_minor": 0,
  "metadata": {
    "colab": {
      "provenance": [],
      "authorship_tag": "ABX9TyMjxyjhKlhBeOhgexNng/fV",
      "include_colab_link": true
    },
    "kernelspec": {
      "name": "python3",
      "display_name": "Python 3"
    },
    "language_info": {
      "name": "python"
    }
  },
  "cells": [
    {
      "cell_type": "markdown",
      "metadata": {
        "id": "view-in-github",
        "colab_type": "text"
      },
      "source": [
        "<a href=\"https://colab.research.google.com/github/vinaozika/aulaaugoritimo/blob/main/Untitled2.ipynb\" target=\"_parent\"><img src=\"https://colab.research.google.com/assets/colab-badge.svg\" alt=\"Open In Colab\"/></a>"
      ]
    },
    {
      "cell_type": "code",
      "execution_count": 2,
      "metadata": {
        "colab": {
          "base_uri": "https://localhost:8080/"
        },
        "id": "MT-mATpD-C0h",
        "outputId": "815e1f0a-19cb-42eb-d604-4f411b47fcb8"
      },
      "outputs": [
        {
          "output_type": "stream",
          "name": "stdout",
          "text": [
            "digite valor polegada2\n",
            "valor pol em mm= 50.8\n"
          ]
        }
      ],
      "source": [
        "#converter polegada para mm\n",
        "p=float(input(\"digite valor polegada\"))\n",
        "mm=p*25.4\n",
        "print(\"valor pol em mm=\",mm)\n"
      ]
    }
  ]
}